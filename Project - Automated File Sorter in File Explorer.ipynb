{
 "cells": [
  {
   "cell_type": "code",
   "execution_count": 12,
   "id": "260c8418",
   "metadata": {},
   "outputs": [],
   "source": [
    "import os, shutil"
   ]
  },
  {
   "cell_type": "code",
   "execution_count": 18,
   "id": "98e7f284",
   "metadata": {},
   "outputs": [],
   "source": [
    "path = r'C:/Users/matth/Desktop/Python AFS/'"
   ]
  },
  {
   "cell_type": "code",
   "execution_count": 22,
   "id": "9ace5e93",
   "metadata": {},
   "outputs": [],
   "source": [
    "file_name = os.listdir(path)"
   ]
  },
  {
   "cell_type": "code",
   "execution_count": 32,
   "id": "05d02fe2",
   "metadata": {},
   "outputs": [],
   "source": [
    "folder_names = ['csv files', 'image files', 'text files']\n",
    "\n",
    "for loop in range(0,3):\n",
    "    if not os.path.exists(path + folder_names[loop]):\n",
    "        os.makedirs((path + folder_names[loop]))\n",
    "        \n",
    "for file in file_name:\n",
    "    if '.csv' in file and not os.path.exists(path + 'csv files/'+ file):\n",
    "        shutil.move(path + file, path + 'csv files/'+ file)\n",
    "    elif '.png' in file and not os.path.exists(path + 'image files/'+ file):\n",
    "        shutil.move(path + file, path + 'image files/'+ file)\n",
    "    elif '.txt' in file and not os.path.exists(path + 'text files/'+ file):\n",
    "        shutil.move(path + file, path + 'text files/'+ file)"
   ]
  },
  {
   "cell_type": "code",
   "execution_count": 31,
   "id": "886c4ab2",
   "metadata": {},
   "outputs": [],
   "source": []
  },
  {
   "cell_type": "code",
   "execution_count": null,
   "id": "eff52396",
   "metadata": {},
   "outputs": [],
   "source": []
  }
 ],
 "metadata": {
  "kernelspec": {
   "display_name": "Python 3 (ipykernel)",
   "language": "python",
   "name": "python3"
  },
  "language_info": {
   "codemirror_mode": {
    "name": "ipython",
    "version": 3
   },
   "file_extension": ".py",
   "mimetype": "text/x-python",
   "name": "python",
   "nbconvert_exporter": "python",
   "pygments_lexer": "ipython3",
   "version": "3.10.9"
  }
 },
 "nbformat": 4,
 "nbformat_minor": 5
}
